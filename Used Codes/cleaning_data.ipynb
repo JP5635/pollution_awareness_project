{
 "cells": [
  {
   "cell_type": "code",
   "execution_count": 24,
   "metadata": {},
   "outputs": [
    {
     "name": "stdout",
     "output_type": "stream",
     "text": [
      "2004_All_sites_air_quality_hourly_avg_AIR-I-F-V-VH-O-S1-DB-M2-4-0.csv\n",
      "2005_All_sites_air_quality_hourly_avg_AIR-I-F-V-VH-O-S1-DB-M2-4-0.csv\n",
      "2006_All_sites_air_quality_hourly_avg_AIR-I-F-V-VH-O-S1-DB-M2-4-0.csv\n",
      "2007_All_sites_air_quality_hourly_avg_AIR-I-F-V-VH-O-S1-DB-M2-4-0.csv\n",
      "2008_All_sites_air_quality_hourly_avg_AIR-I-F-V-VH-O-S1-DB-M2-4-0.csv\n",
      "2009_All_sites_air_quality_hourly_avg_AIR-I-F-V-VH-O-S1-DB-M2-4-0.csv\n",
      "2010_All_sites_air_quality_hourly_avg_AIR-I-F-V-VH-O-S1-DB-M2-4-0.csv\n",
      "2011_All_sites_air_quality_hourly_avg_AIR-I-F-V-VH-O-S1-DB-M2-4-0.csv\n",
      "2012_All_sites_air_quality_hourly_avg_AIR-I-F-V-VH-O-S1-DB-M2-4-0.csv\n",
      "2013_All_sites_air_quality_hourly_avg_AIR-I-F-V-VH-O-S1-DB-M2-4-0.csv\n",
      "2014_All_sites_air_quality_hourly_avg_AIR-I-F-V-VH-O-S1-DB-M2-4-0.csv\n",
      "2015_All_sites_air_quality_hourly_avg_AIR-I-F-V-VH-O-S1-DB-M2-4-0.csv\n",
      "2016_All_sites_air_quality_hourly_avg_AIR-I-F-V-VH-O-S1-DB-M2-4-0.csv\n"
     ]
    }
   ],
   "source": [
    "import pandas as pd\n",
    "import argparse\n",
    "from datetime import date\n",
    "import numpy as np\n",
    "\n",
    "csv_name = '_All_sites_air_quality_hourly_avg_AIR-I-F-V-VH-O-S1-DB-M2-4-0.csv'\n",
    "\n",
    "for i in range(2004, 2017):\n",
    "    years = str(i)\n",
    "    csv_name_in = years + csv_name\n",
    "    print(csv_name_in)\n",
    "    polls = pd.read_csv(csv_name_in)\n",
    "\n",
    "    polls['sample_datetime'] = pd.to_datetime(polls['sample_datetime'], dayfirst = True)\n",
    "\n",
    "    polls['month'] = polls['sample_datetime'].dt.month\n",
    "    polls['year'] = polls['sample_datetime'].dt.year\n",
    "    \n",
    "    if i >= 2015:\n",
    "        polls_c = polls[['sp_name', 'year', 'month', 'param_id', 'value']]     \n",
    "    else:\n",
    "        polls_c = polls[['sp_name', 'year', 'month', 'param_id', 'PV']]\n",
    "        \n",
    "    polls_c = polls_c.groupby(['sp_name', 'year', 'month', 'param_id']).sum().reset_index()\n",
    "\n",
    "\n",
    "    polls_c = polls_c.sort_values(['sp_name', 'year', 'month'], ascending = True)\n",
    "\n",
    "    csv_name_o = years + '_air_pollution' + '_cleaned' + '.csv'\n",
    "    polls_c.to_csv(csv_name_o, index = False)\n",
    "\n",
    "    #print(polls_c.head(50))\n",
    "\n"
   ]
  },
  {
   "cell_type": "code",
   "execution_count": null,
   "metadata": {},
   "outputs": [],
   "source": []
  },
  {
   "cell_type": "code",
   "execution_count": null,
   "metadata": {},
   "outputs": [],
   "source": []
  }
 ],
 "metadata": {
  "kernelspec": {
   "display_name": "Python 3",
   "language": "python",
   "name": "python3"
  },
  "language_info": {
   "codemirror_mode": {
    "name": "ipython",
    "version": 3
   },
   "file_extension": ".py",
   "mimetype": "text/x-python",
   "name": "python",
   "nbconvert_exporter": "python",
   "pygments_lexer": "ipython3",
   "version": "3.7.4"
  }
 },
 "nbformat": 4,
 "nbformat_minor": 4
}
